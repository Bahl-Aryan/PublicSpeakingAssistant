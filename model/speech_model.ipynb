{
  "cells": [
    {
      "cell_type": "code",
      "execution_count": null,
      "metadata": {
        "id": "ffRuMsYqptKc"
      },
      "outputs": [],
      "source": [
        "import librosa\n",
        "import pandas as pd\n",
        "import numpy as np"
      ]
    },
    {
      "cell_type": "code",
      "execution_count": null,
      "metadata": {
        "colab": {
          "base_uri": "https://localhost:8080/"
        },
        "id": "JWLu9UKfq7QG",
        "outputId": "13739b15-00ff-4c15-b3f6-00012d19e9b6"
      },
      "outputs": [],
      "source": [
        "from google.colab import drive\n",
        "drive.mount('/content/gdrive', force_remount=True) # mount to google drive"
      ]
    },
    {
      "cell_type": "code",
      "execution_count": null,
      "metadata": {
        "colab": {
          "base_uri": "https://localhost:8080/",
          "height": 677
        },
        "id": "4354Ak7gp8Gr",
        "outputId": "dfde6f19-96a6-43b1-c37d-9872d5bb7fba"
      },
      "outputs": [],
      "source": [
        "audio_files = pd.DataFrame(pd.read_excel(\"/content/gdrive/MyDrive/222 proj/data.xlsx\")) # audio\n",
        "audio_files"
      ]
    },
    {
      "cell_type": "code",
      "execution_count": null,
      "metadata": {
        "colab": {
          "base_uri": "https://localhost:8080/"
        },
        "id": "cZ4x4DlnjKo4",
        "outputId": "dafc3235-12fc-412a-8ad8-f9a8197854ed"
      },
      "outputs": [],
      "source": [
        "import tensorflow as tf\n",
        "!pip install tensorflow_io\n",
        "import tensorflow_io as tfio\n",
        "def get_spectrogram(file_path):\n",
        "  fileo = tf.io.read_file(file_path) # read file\n",
        "  wav_file, sample_rate = tf.audio.decode_wav(fileo, desired_channels=1) # decode wav\n",
        "  wav_file = tf.squeeze(wav_file, axis = 1)\n",
        "  wav_file = tfio.audio.resample(wav_file, rate_in=tf.cast(sample_rate, dtype=tf.int64), rate_out=16000) # resample to 16000\n",
        "  spectrogram = tf.signal.stft(wav_file, frame_length=512, frame_step=32) # convert to spectrogram\n",
        "  spectrogram = tf.abs(spectrogram)\n",
        "  spectrogram = tf.expand_dims(spectrogram, axis=2)\n",
        "  return spectrogram"
      ]
    },
    {
      "cell_type": "code",
      "execution_count": null,
      "metadata": {
        "colab": {
          "base_uri": "https://localhost:8080/"
        },
        "id": "1bKOpWIFsSd2",
        "outputId": "99e1aacf-9567-4eb1-ae3f-025324fb7d68"
      },
      "outputs": [],
      "source": [
        "import tensorflow as tf\n",
        "spectrograms = [] # list of spectrograms\n",
        "for file_name in audio_files[\"file_name\"]:\n",
        "  print(file_name)\n",
        "  spectrogram = get_spectrogram(\"/content/gdrive/MyDrive/222 proj/audio_clips/\" + file_name)\n",
        "  spectrogram = spectrogram[0:15000] # cut to 30 seconds\n",
        "  spectrograms.append(spectrogram) # append spectrogram audio data to audios. After the loop, audios will have the audio information of all the files as a spectrograms in different rows\n",
        "audio_files.insert(0, \"spectrogram\", spectrograms) # inserting new audio column to audio_files\n"
      ]
    },
    {
      "cell_type": "code",
      "execution_count": null,
      "metadata": {
        "colab": {
          "base_uri": "https://localhost:8080/",
          "height": 206
        },
        "id": "C85xR1Z6vyhV",
        "outputId": "71bb42a8-48e3-4e83-a862-fe547130acdf"
      },
      "outputs": [],
      "source": [
        "audio_files.head() # check what audio_files looks like"
      ]
    },
    {
      "cell_type": "code",
      "execution_count": null,
      "metadata": {
        "colab": {
          "base_uri": "https://localhost:8080/",
          "height": 449
        },
        "id": "yVA4HC5Y9UKz",
        "outputId": "78de07b2-b4da-4d9c-f483-59ef038907e5"
      },
      "outputs": [],
      "source": [
        "import seaborn\n",
        "from scipy import stats\n",
        "\n",
        "quality = \"enthusiasim\" # THIS IS WHERE TO CHOOSE WHICH QUALITY WE WANT TO TRAIN THE MODEL ON\n",
        "seaborn.histplot(data=stats.zscore(audio_files[quality]))\n",
        "audio_files[quality] = stats.zscore(audio_files[quality])"
      ]
    },
    {
      "cell_type": "code",
      "execution_count": null,
      "metadata": {
        "colab": {
          "base_uri": "https://localhost:8080/",
          "height": 435
        },
        "id": "OH3gw7pMxMQQ",
        "outputId": "94fb3fbb-9be2-4855-a4e2-8da9e7fc7260"
      },
      "outputs": [],
      "source": [
        "from matplotlib import pyplot as plt\n",
        "plt.imshow(tf.transpose(audio_files['spectrogram'][0][3000:3250])[0]) # display section of spectrogram\n",
        "plt.show()"
      ]
    },
    {
      "cell_type": "code",
      "execution_count": null,
      "metadata": {
        "id": "j7Vlm6UUDGBL"
      },
      "outputs": [],
      "source": [
        "from sklearn.model_selection import train_test_split\n",
        "\n",
        "x_train, x_test, y_train, y_test = train_test_split(audio_files.iloc[:, 0], stats.zscore(audio_files[quality]), test_size=0.25, random_state=48) # split into 80% 20% training testing datasets\n"
      ]
    },
    {
      "cell_type": "code",
      "execution_count": null,
      "metadata": {
        "id": "pTkk9UaXS4o8"
      },
      "outputs": [],
      "source": [
        "from tensorflow.python.framework import ops\n",
        "# convert training and testing data lists into np array\n",
        "x_train = np.asarray(x_train)\n",
        "x_test = np.asarray(x_test)\n",
        "y_train = np.asarray(y_train)\n",
        "y_test = np.asarray(y_test)\n",
        "# convert to tensor\n",
        "x_train = np.array([tensor.numpy() for tensor in x_train])\n",
        "x_test = np.array([tensor.numpy() for tensor in x_test])"
      ]
    },
    {
      "cell_type": "code",
      "execution_count": null,
      "metadata": {
        "id": "cNaGXhtH2J0n"
      },
      "outputs": [],
      "source": [
        "from keras.models import Sequential\n",
        "from keras.layers import Dense, Dropout, Activation, Flatten, Conv2D, MaxPooling2D\n",
        "\n",
        "# create model\n",
        "model = Sequential()\n",
        "model.add(Conv2D(1, (8,8), activation='relu', input_shape=[15000, 257, 1]))\n",
        "model.add(MaxPooling2D(pool_size=(8, 8)))\n",
        "model.add(Conv2D(1, (8,8), activation='relu'))\n",
        "model.add(MaxPooling2D(pool_size=(8, 8)))\n",
        "model.add(Flatten())\n",
        "model.add(Dense(10, activation='linear'))\n",
        "model.add(Dense(1, activation='linear'))\n"
      ]
    },
    {
      "cell_type": "code",
      "execution_count": null,
      "metadata": {
        "colab": {
          "base_uri": "https://localhost:8080/"
        },
        "id": "8JpbHIsB_d7N",
        "outputId": "d5a339bf-5939-451a-a952-d496c16d656d"
      },
      "outputs": [],
      "source": [
        "np.mean(y_test)"
      ]
    },
    {
      "cell_type": "code",
      "execution_count": null,
      "metadata": {
        "colab": {
          "base_uri": "https://localhost:8080/"
        },
        "id": "VDquf85d2U64",
        "outputId": "b830066e-dc88-452b-ddcb-3fe1fd814bf2"
      },
      "outputs": [],
      "source": [
        "model.compile(loss='mse', optimizer='adam', metrics=['mae', 'mse'])\n",
        "\n",
        "# train the model\n",
        "history = model.fit(x_train, y_train, epochs = 3, validation_data=[x_test, y_test])"
      ]
    },
    {
      "cell_type": "code",
      "execution_count": null,
      "metadata": {
        "colab": {
          "base_uri": "https://localhost:8080/"
        },
        "id": "EGHGUh9sDDvM",
        "outputId": "e2930168-ac21-4b4e-e258-50fdbee9087a"
      },
      "outputs": [],
      "source": [
        "y_pred = model.predict(x_test)"
      ]
    },
    {
      "cell_type": "code",
      "execution_count": null,
      "metadata": {
        "colab": {
          "base_uri": "https://localhost:8080/"
        },
        "id": "fsOYTIscCdLD",
        "outputId": "dc8390d6-8d1a-418c-9a8f-a7a82eceb329"
      },
      "outputs": [],
      "source": [
        "from sklearn.metrics import r2_score\n",
        "print(r2_score(y_test, y_pred))"
      ]
    },
    {
      "cell_type": "code",
      "execution_count": null,
      "metadata": {
        "colab": {
          "base_uri": "https://localhost:8080/"
        },
        "id": "S3xL6YK18m3t",
        "outputId": "4a233825-cb85-4f13-ed2c-9434f4281be3"
      },
      "outputs": [],
      "source": [
        "from scipy.stats import spearmanr\n",
        "coef, p = spearmanr(y_test, y_pred)\n",
        "print(coef)"
      ]
    },
    {
      "cell_type": "code",
      "execution_count": null,
      "metadata": {
        "id": "Gf-QmrEtvIb5"
      },
      "outputs": [],
      "source": [
        "!mkdir saved_model\n",
        "model.save(\"saved_models/\" + quality) # create ability to save model for any quality"
      ]
    },
    {
      "cell_type": "code",
      "execution_count": null,
      "metadata": {
        "id": "Y097nFQfcJXl"
      },
      "outputs": [],
      "source": [
        "# after saving all different models..."
      ]
    },
    {
      "cell_type": "code",
      "execution_count": null,
      "metadata": {
        "id": "ls1WI9yrrlLM"
      },
      "outputs": [],
      "source": [
        "def test_speech(file_name, characteristic):\n",
        "  if characteristic not in (\"assertiveness\", \"enthusiasm\", \"clarity\", \"engagement\"):\n",
        "    print(\"Error: test_speech called with bad characteristic. Please use one of the following: assertiveness, enthusiasm, clarity, engagement\")\n",
        "    return -1\n",
        "\n",
        "  model = tf.keras.models.load_model('saved_models/' + quality) # load in saved model\n",
        "\n",
        "  spectrogram = get_spectrogram(\"/content/gdrive/MyDrive/222 proj/audio_clips/\" + file_name)\n",
        "  spectrogram = spectrogram[0:15000] # cut to 30 seconds\n",
        "  return model.predict(spectrogram) # return prediction"
      ]
    }
  ],
  "metadata": {
    "colab": {
      "provenance": []
    },
    "kernelspec": {
      "display_name": "Python 3",
      "name": "python3"
    },
    "language_info": {
      "name": "python",
      "version": "3.10.5"
    }
  },
  "nbformat": 4,
  "nbformat_minor": 0
}
